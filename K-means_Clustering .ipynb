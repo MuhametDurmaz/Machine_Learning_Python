{
 "cells": [
  {
   "cell_type": "code",
   "execution_count": null,
   "metadata": {},
   "outputs": [],
   "source": [
    "import numpy as np\n",
    "import matplotlib.pyplot as plt\n",
    "from utils import *\n",
    "\n",
    "%matplotlib inline"
   ]
  },
  {
   "cell_type": "markdown",
   "metadata": {},
   "source": [
    "Implementing K-means\n",
    "The K-means algorithm is a method to automatically cluster similar data points together.\n",
    "\n",
    "Concretely, you are given a training set  {𝑥(1),...,𝑥(𝑚)} , and you want to group the data into a few cohesive “clusters”.\n",
    "K-means is an iterative procedure that\n",
    "Starts by guessing the initial centroids, and then\n",
    "Refines this guess by\n",
    "Repeatedly assigning examples to their closest centroids, and then\n",
    "Recomputing the centroids based on the assignments.\n"
   ]
  },
  {
   "cell_type": "code",
   "execution_count": null,
   "metadata": {},
   "outputs": [],
   "source": [
    "# Function for finding the closest centroid to each datapoint.\n",
    "def find_closest_centroids(X, centroids):\n",
    "\n",
    "    K = centroids.shape[0]\n",
    "\n",
    "    idx = np.zeros(X.shape[0], dtype=int)\n",
    "\n",
    "    for i in range(X.shape[0]):\n",
    "        dist=[]\n",
    "        for j in range(K):\n",
    "            er = np.linalg.norm(X[i]-centroids[j])\n",
    "            dist.append(er)\n",
    "            idx[i]= np.argmin(dist)\n",
    "    return idx"
   ]
  },
  {
   "cell_type": "code",
   "execution_count": null,
   "metadata": {},
   "outputs": [],
   "source": [
    "# Function for finding the new centroids by taking the average of the coordinate of the data points. \n",
    "def compute_centroids(X, idx, K):\n",
    "\n",
    "    m, n = X.shape\n",
    "\n",
    "    centroids = np.zeros((K, n))\n",
    "\n",
    "    for k in range(K):\n",
    "        points = X[idx==k,:]\n",
    "        centroids[k]= np.mean(points, axis=0)\n",
    "\n",
    "    return centroids"
   ]
  },
  {
   "cell_type": "code",
   "execution_count": null,
   "metadata": {},
   "outputs": [],
   "source": [
    "# Function to run K-means algorithm\n",
    "def run_kMeans(X, initial_centroids, max_iters=10, plot_progress=False):\n",
    "\n",
    "    m, n = X.shape\n",
    "    K = initial_centroids.shape[0]\n",
    "    centroids = initial_centroids\n",
    "    previous_centroids = centroids    \n",
    "    idx = np.zeros(m)\n",
    "\n",
    "    for i in range(max_iters):\n",
    "\n",
    "        print(\"K-Means iteration %d/%d\" % (i, max_iters-1))\n",
    "        \n",
    "        idx = find_closest_centroids(X, centroids)\n",
    "\n",
    "        if plot_progress:\n",
    "            plot_progress_kMeans(X, centroids, previous_centroids, idx, K, i)\n",
    "            previous_centroids = centroids\n",
    "\n",
    "        centroids = compute_centroids(X, idx, K)\n",
    "    plt.show() \n",
    "    return centroids, idx"
   ]
  },
  {
   "cell_type": "code",
   "execution_count": null,
   "metadata": {},
   "outputs": [],
   "source": [
    "# Function for randomly initializing the centroids. \n",
    "def kMeans_init_centroids(X, K):\n",
    "\n",
    "    randidx = np.random.permutation(X.shape[0])\n",
    "\n",
    "    centroids = X[randidx[:K]]\n",
    "    \n",
    "    return centroids"
   ]
  }
 ],
 "metadata": {
  "kernelspec": {
   "display_name": "Python 3",
   "language": "python",
   "name": "python3"
  },
  "language_info": {
   "codemirror_mode": {
    "name": "ipython",
    "version": 3
   },
   "file_extension": ".py",
   "mimetype": "text/x-python",
   "name": "python",
   "nbconvert_exporter": "python",
   "pygments_lexer": "ipython3",
   "version": "3.6.6"
  }
 },
 "nbformat": 4,
 "nbformat_minor": 2
}
