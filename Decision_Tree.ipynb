{
 "cells": [
  {
   "cell_type": "code",
   "execution_count": null,
   "metadata": {},
   "outputs": [],
   "source": [
    "import numpy as np\n",
    "import matplotlib.pyplot as plt\n",
    "from public_tests import *\n",
    "from utils import *\n",
    "\n",
    "%matplotlib inline"
   ]
  },
  {
   "cell_type": "markdown",
   "metadata": {},
   "source": [
    "Calculate entropy\n",
    "First, you'll write a helper function called compute_entropy that computes the entropy (measure of impurity) at a node.\n",
    "\n",
    "The function takes in a numpy array (y) that indicates whether the examples in that node are edible (1) or poisonous(0)\n",
    "Complete the compute_entropy() function below to:\n",
    "\n",
    "Compute  𝑝1 , which is the fraction of examples that are edible (i.e. have value = 1 in y)\n",
    "The entropy is then calculated as\n",
    "𝐻(𝑝1)=−𝑝1log2(𝑝1)−(1−𝑝1)log2(1−𝑝1)\n",
    " \n",
    "Note\n",
    "The log is calculated with base  2 \n",
    "For implementation purposes,  0log2(0)=0 . That is, if p_1 = 0 or p_1 = 1, set the entropy to 0\n",
    "Make sure to check that the data at a node is not empty (i.e. len(y) != 0). Return 0 if it is"
   ]
  },
  {
   "cell_type": "code",
   "execution_count": null,
   "metadata": {},
   "outputs": [],
   "source": [
    "# Function for computing the entropy.\n",
    "def compute_entropy(y):\n",
    "    entropy = 0.\n",
    "\n",
    "    if len(y)!=0:\n",
    "            \n",
    "        p1=len(y[y==1])/len(y)\n",
    "            \n",
    "        if p1 != 0 and p1 != 1:\n",
    "                \n",
    "            entropy = -p1*np.log2(p1)-(1-p1)*np.log2(1-p1)\n",
    "                \n",
    "        else:\n",
    "                \n",
    "            entropy=0.\n",
    "\n",
    "    return entropy"
   ]
  },
  {
   "cell_type": "code",
   "execution_count": null,
   "metadata": {},
   "outputs": [],
   "source": [
    "# Function for spliting the dataset\n",
    "def split_dataset(X, node_indices, feature):\n",
    "\n",
    "    left_indices = []\n",
    "    right_indices = []\n",
    "\n",
    "    for i in node_indices:\n",
    "        if X[i,feature] ==1:\n",
    "            left_indices.append(i)\n",
    "        else:\n",
    "            right_indices.append(i)\n",
    "    return left_indices, right_indices"
   ]
  },
  {
   "cell_type": "markdown",
   "metadata": {},
   "source": [
    "Please complete the compute_information_gain() function shown below to compute\n",
    "\n",
    "Information Gain=𝐻(𝑝node1)−(𝑤left𝐻(𝑝left1)+𝑤right𝐻(𝑝right1))\n",
    " \n",
    "where\n",
    "\n",
    "𝐻(𝑝node1)  is entropy at the node\n",
    "𝐻(𝑝left1)  and  𝐻(𝑝right1)  are the entropies at the left and the right branches resulting from the split\n",
    "𝑤left  and  𝑤right  are the proportion of examples at the left and right branch respectively"
   ]
  },
  {
   "cell_type": "code",
   "execution_count": null,
   "metadata": {},
   "outputs": [],
   "source": [
    "# Function for computing information gain.\n",
    "def compute_information_gain(X, y, node_indices, feature):\n",
    "    left_indices, right_indices = split_dataset(X, node_indices, feature)\n",
    "    X_node, y_node = X[node_indices], y[node_indices]\n",
    "    X_left, y_left = X[left_indices], y[left_indices]\n",
    "    X_right, y_right = X[right_indices], y[right_indices]\n",
    "    information_gain = 0\n",
    "\n",
    "    node_entropy = compute_entropy(y_node)\n",
    "    left_entropy = compute_entropy(y_left)\n",
    "    right_entropy = compute_entropy(y_right)\n",
    "    w_left = len(X_left) / len(X_node)\n",
    "    w_right = len(X_right) / len(X_node)\n",
    "    weighted_entropy = w_left * left_entropy + w_right * right_entropy\n",
    "    information_gain = node_entropy - weighted_entropy\n",
    "\n",
    "    return information_gain"
   ]
  },
  {
   "cell_type": "code",
   "execution_count": null,
   "metadata": {},
   "outputs": [],
   "source": [
    "# Function for determining the best feature for spliting the data\n",
    "def get_best_split(X, y, node_indices):   \n",
    "\n",
    "    num_features = X.shape[1]\n",
    "    \n",
    "    best_feature = -1\n",
    "\n",
    "    max_info_gain = 0\n",
    "\n",
    "    for feature in range(num_features): \n",
    "\n",
    "        info_gain = compute_information_gain(X, y, node_indices, feature)\n",
    "\n",
    "        if info_gain > max_info_gain:  \n",
    "\n",
    "            max_info_gain = info_gain\n",
    "            best_feature = feature\n",
    "\n",
    "    return best_feature"
   ]
  },
  {
   "cell_type": "code",
   "execution_count": null,
   "metadata": {},
   "outputs": [],
   "source": [
    "# Function for building decision tree using above functions\n",
    "tree = []\n",
    "\n",
    "def build_tree_recursive(X, y, node_indices, branch_name, max_depth, current_depth):\n",
    "\n",
    "    if current_depth == max_depth:\n",
    "        formatting = \" \"*current_depth + \"-\"*current_depth\n",
    "        print(formatting, \"%s leaf node with indices\" % branch_name, node_indices)\n",
    "        return\n",
    "\n",
    "    best_feature = get_best_split(X, y, node_indices) \n",
    "    \n",
    "    formatting = \"-\"*current_depth\n",
    "    print(\"%s Depth %d, %s: Split on feature: %d\" % (formatting, current_depth, branch_name, best_feature))\n",
    "\n",
    "    left_indices, right_indices = split_dataset(X, node_indices, best_feature)\n",
    "    tree.append((left_indices, right_indices, best_feature))\n",
    "\n",
    "    build_tree_recursive(X, y, left_indices, \"Left\", max_depth, current_depth+1)\n",
    "    build_tree_recursive(X, y, right_indices, \"Right\", max_depth, current_depth+1)"
   ]
  }
 ],
 "metadata": {
  "kernelspec": {
   "display_name": "Python 3",
   "language": "python",
   "name": "python3"
  },
  "language_info": {
   "codemirror_mode": {
    "name": "ipython",
    "version": 3
   },
   "file_extension": ".py",
   "mimetype": "text/x-python",
   "name": "python",
   "nbconvert_exporter": "python",
   "pygments_lexer": "ipython3",
   "version": "3.6.6"
  }
 },
 "nbformat": 4,
 "nbformat_minor": 2
}
